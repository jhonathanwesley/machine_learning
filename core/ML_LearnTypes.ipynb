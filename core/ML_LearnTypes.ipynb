{
 "cells": [
  {
   "cell_type": "markdown",
   "id": "fcd1520f",
   "metadata": {},
   "source": [
    "# Tipos de Aprendizado"
   ]
  },
  {
   "cell_type": "markdown",
   "id": "3ce666a0",
   "metadata": {},
   "source": [
    "---"
   ]
  },
  {
   "cell_type": "markdown",
   "id": "9da95b5d",
   "metadata": {},
   "source": [
    "## Aprendizado Supervisionado\n",
    "\n",
    "> O Aprendizado Supervisionado é quando se tem uma variável resposta\n",
    "\n",
    "- É aplicado quando precisamos prever uma variável:\n",
    "\n",
    "> Pode ser subdividido em:\n",
    "    1. ***Classificação***\n",
    "    2. ***Regressão***\n",
    "\n"
   ]
  },
  {
   "cell_type": "code",
   "execution_count": null,
   "id": "2dc2b3d8",
   "metadata": {
    "vscode": {
     "languageId": "plaintext"
    }
   },
   "outputs": [],
   "source": []
  },
  {
   "cell_type": "markdown",
   "id": "46cd0ae5",
   "metadata": {},
   "source": [
    "## Aprendizado não Supervisionado\n",
    "\n",
    "> Não temos uma variável ***alvo*** (**Resposta**)\n",
    "\n",
    "- É utilizado para entender grupos entre as variáveis, clusters\n",
    "    1. **Agrupar**"
   ]
  }
 ],
 "metadata": {
  "language_info": {
   "name": "python"
  }
 },
 "nbformat": 4,
 "nbformat_minor": 5
}
